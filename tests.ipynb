{
 "cells": [
  {
   "cell_type": "code",
   "execution_count": 1,
   "metadata": {
    "collapsed": true
   },
   "outputs": [],
   "source": [
    "from descent import gauss_newton_descent\n",
    "from dataset import get_linear_loss_func\n",
    "fs, _ = get_linear_loss_func()\n",
    "\n",
    "def f(x, y, i):\n",
    "    def ff(p):\n",
    "        return x[i] * p[i] - y[i]\n",
    "\n",
    "    return ff\n",
    "\n",
    "\n",
    "x = np.array([1, 3, 4], dtype=np.float64)\n",
    "y = [5, 7, 9]\n",
    "rss = [f(x, y, i) for i in range(3)]\n",
    "x0 = np.array([1, 1, 1], dtype=np.float64)\n",
    "print(powell_dog_leg(x0, rss, numeric_gradient))\n",
    "print(gauss_newton_descent(x0, rss, numeric_gradient))\n"
   ]
  }
 ],
 "metadata": {
  "kernelspec": {
   "display_name": "Python 3",
   "language": "python",
   "name": "python3"
  },
  "language_info": {
   "codemirror_mode": {
    "name": "ipython",
    "version": 2
   },
   "file_extension": ".py",
   "mimetype": "text/x-python",
   "name": "python",
   "nbconvert_exporter": "python",
   "pygments_lexer": "ipython2",
   "version": "2.7.6"
  }
 },
 "nbformat": 4,
 "nbformat_minor": 0
}