{
 "cells": [
  {
   "cell_type": "markdown",
   "metadata": {
    "id": "xyDpv79fwnKk"
   },
   "source": [
    "# Задачи, цели работы\n"
   ]
  },
  {
   "cell_type": "markdown",
   "metadata": {
    "id": "6L1EmpPwrREO"
   },
   "source": [
    "## Цель работы\n"
   ]
  },
  {
   "cell_type": "markdown",
   "metadata": {
    "id": "ByPXPQJErPMI"
   },
   "source": [
    "## Задачи для достижения указанной цели\n",
    "\n",
    "1. "
   ]
  },
  {
   "cell_type": "markdown",
   "metadata": {
    "id": "yrRNnwoWrDHf"
   },
   "source": [
    "# Ход работы"
   ]
  },
  {
   "cell_type": "markdown",
   "metadata": {
    "id": "ZN50cWDDrUhS"
   },
   "source": [
    "## Подготовка среды, определение полезных функций"
   ]
  },
  {
   "cell_type": "markdown",
   "metadata": {
    "id": "g6KyTs-iC1hM"
   },
   "source": [
    "### Импорты"
   ]
  },
  {
   "cell_type": "markdown",
   "metadata": {
    "id": "lQejt5g8MtWW"
   },
   "source": [
    "### Реализация градиентного спуска с модификациями из прошлой лабораторной работы (Learning rate scheduling + Adam)"
   ]
  },
  {
   "cell_type": "markdown",
   "metadata": {
    "id": "LZ_U6q7PcN0-"
   },
   "source": [
    "#### Демонстрация"
   ]
  },
  {
   "cell_type": "markdown",
   "metadata": {
    "id": "bDb9OozacWMV"
   },
   "source": [
    "### Реализация метода Gauss-Newton"
   ]
  },
  {
   "cell_type": "markdown",
   "metadata": {
    "id": "ltvEVivrcbAd"
   },
   "source": [
    "#### Демонстрация"
   ]
  },
  {
   "cell_type": "markdown",
   "metadata": {
    "id": "Jjx4ch1lccak"
   },
   "source": [
    "### Реализация метода Powell Dog Leg"
   ]
  },
  {
   "cell_type": "markdown",
   "metadata": {
    "id": "SzBzyz-4cgXq"
   },
   "source": [
    "#### Демонстрация"
   ]
  },
  {
   "cell_type": "markdown",
   "metadata": {
    "id": "r8bC4Eqmum1F"
   },
   "source": [
    "### Выводы"
   ]
  },
  {
   "cell_type": "markdown",
   "metadata": {
    "id": "9-Au9Midu99q"
   },
   "source": [
    "// текстовый вывод"
   ]
  },
  {
   "cell_type": "markdown",
   "metadata": {
    "id": "ASQ3u3jWRaym"
   },
   "source": [
    "\n",
    "## Задание 2. Исследование метода BFGS\n"
   ]
  },
  {
   "cell_type": "markdown",
   "metadata": {
    "id": "yq6nl01rIhd9"
   },
   "source": [
    "### Реализация"
   ]
  },
  {
   "cell_type": "markdown",
   "metadata": {
    "id": "IXY5ehA2dXrI"
   },
   "source": [
    "### Демонстарация на различных функциях"
   ]
  },
  {
   "cell_type": "markdown",
   "metadata": {
    "id": "UYtI_SWaddDn"
   },
   "source": [
    "#### Квадратичная функция"
   ]
  },
  {
   "cell_type": "markdown",
   "metadata": {
    "id": "WQitydGCdsqA"
   },
   "source": [
    "// Демонстрация + наложенная траектория прошлых методов"
   ]
  },
  {
   "cell_type": "markdown",
   "metadata": {
    "id": "ooTBDbW3dfw_"
   },
   "source": [
    "#### Линейная регрессия"
   ]
  },
  {
   "cell_type": "markdown",
   "metadata": {
    "id": "6UWKTHn8dxHu"
   },
   "source": [
    "// Демонстрация + наложенная траектория прошлых методов"
   ]
  },
  {
   "cell_type": "markdown",
   "metadata": {
    "id": "dxTEsjLDdfgT"
   },
   "source": [
    "#### Нелинейная регрессия"
   ]
  },
  {
   "cell_type": "markdown",
   "metadata": {
    "id": "m9ZzvtnMdxl6"
   },
   "source": [
    "// Демонстрация + наложенная траектория прошлых методов"
   ]
  },
  {
   "cell_type": "markdown",
   "metadata": {
    "id": "y7ZhmX3kdj-4"
   },
   "source": [
    "#### // ?????"
   ]
  },
  {
   "cell_type": "markdown",
   "metadata": {
    "id": "WHqRyvfgdyvA"
   },
   "source": [
    "// Демонстрация + наложенная траектория прошлых методов"
   ]
  },
  {
   "cell_type": "markdown",
   "metadata": {
    "id": "KVwHFsY5M7Ze"
   },
   "source": [
    "### Выводы\n"
   ]
  },
  {
   "cell_type": "markdown",
   "metadata": {
    "id": "hyplVmveNANQ"
   },
   "source": [
    "Текстовый вывод"
   ]
  },
  {
   "cell_type": "markdown",
   "metadata": {
    "id": "ulQst9aplKHf"
   },
   "source": [
    "# Бонусное задание"
   ]
  },
  {
   "cell_type": "markdown",
   "metadata": {
    "id": "1OA2N1TPlMqE"
   },
   "source": [
    "## Задание 1. Реализация метода L-BFGS"
   ]
  },
  {
   "cell_type": "markdown",
   "metadata": {
    "id": "Kv3INd_MeMgz"
   },
   "source": [
    "### Реализация"
   ]
  },
  {
   "cell_type": "markdown",
   "metadata": {
    "id": "CK63h8p2eMgz"
   },
   "source": [
    "### Демонстарация на различных функциях"
   ]
  },
  {
   "cell_type": "markdown",
   "metadata": {
    "id": "kVPJNQyJeMg0"
   },
   "source": [
    "#### Квадратичная функция"
   ]
  },
  {
   "cell_type": "markdown",
   "metadata": {
    "id": "SEbcRNf4eMg0"
   },
   "source": [
    "// Демонстрация + наложенная траектория прошлых методов"
   ]
  },
  {
   "cell_type": "markdown",
   "metadata": {
    "id": "oVuK6MUWeMg0"
   },
   "source": [
    "#### Линейная регрессия"
   ]
  },
  {
   "cell_type": "markdown",
   "metadata": {
    "id": "_9ngykYpeMg0"
   },
   "source": [
    "// Демонстрация + наложенная траектория прошлых методов"
   ]
  },
  {
   "cell_type": "markdown",
   "metadata": {
    "id": "fqBGyR6aeMg0"
   },
   "source": [
    "#### Нелинейная регрессия"
   ]
  },
  {
   "cell_type": "markdown",
   "metadata": {
    "id": "jfNPaI0geMg0"
   },
   "source": [
    "// Демонстрация + наложенная траектория прошлых методов"
   ]
  },
  {
   "cell_type": "markdown",
   "metadata": {
    "id": "8nZf4Fj5eMg0"
   },
   "source": [
    "#### // ?????"
   ]
  },
  {
   "cell_type": "markdown",
   "metadata": {
    "id": "wGnxxH7feMg0"
   },
   "source": [
    "// Демонстрация + наложенная траектория прошлых методов"
   ]
  },
  {
   "cell_type": "markdown",
   "metadata": {
    "id": "DSXLYH4ZeMg0"
   },
   "source": [
    "### Выводы\n"
   ]
  },
  {
   "cell_type": "markdown",
   "metadata": {
    "id": "8I4HmnbzeMg0"
   },
   "source": [
    "Текстовый вывод"
   ]
  },
  {
   "cell_type": "markdown",
   "metadata": {
    "id": "cfDjqV_bIQzB"
   },
   "source": [
    "# Заключение\n",
    "\n"
   ]
  },
  {
   "cell_type": "markdown",
   "metadata": {
    "id": "0YJ__XhfeUF5"
   },
   "source": [
    "## Сравнительный анализ приведённых методов"
   ]
  },
  {
   "cell_type": "markdown",
   "metadata": {
    "id": "hvikDeMZeXnN"
   },
   "source": [
    "### Графики"
   ]
  },
  {
   "cell_type": "markdown",
   "metadata": {
    "id": "RoD4C3cjeZBg"
   },
   "source": [
    "// Наложенные траектории и восстановленные регрессии"
   ]
  },
  {
   "cell_type": "markdown",
   "metadata": {
    "id": "VMz0qc6Recnq"
   },
   "source": [
    "### Использование ресурсов"
   ]
  },
  {
   "cell_type": "markdown",
   "metadata": {
    "id": "nLychtbMegQu"
   },
   "source": [
    "// Таблица от профайлера"
   ]
  },
  {
   "cell_type": "markdown",
   "metadata": {
    "id": "hAeJgcLLejy_"
   },
   "source": [
    "## Вывод"
   ]
  },
  {
   "cell_type": "markdown",
   "metadata": {
    "id": "3bj6t-sIcjtG"
   },
   "source": [
    "// Текстовый финал."
   ]
  }
 ],
 "metadata": {
  "language_info": {
   "name": "python"
  }
 },
 "nbformat": 4,
 "nbformat_minor": 1
}
